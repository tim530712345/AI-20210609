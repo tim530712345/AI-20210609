{
  "nbformat": 4,
  "nbformat_minor": 0,
  "metadata": {
    "colab": {
      "name": "nb_reprocess.ipynb",
      "provenance": [],
      "authorship_tag": "ABX9TyMJ9m9HSGe2KU14bqF0CHZ/",
      "include_colab_link": true
    },
    "kernelspec": {
      "name": "python3",
      "display_name": "Python 3"
    },
    "language_info": {
      "name": "python"
    },
    "accelerator": "GPU"
  },
  "cells": [
    {
      "cell_type": "markdown",
      "metadata": {
        "id": "view-in-github",
        "colab_type": "text"
      },
      "source": [
        "<a href=\"https://colab.research.google.com/github/tim530712345/AI-20210609/blob/main/nb_reprocess.ipynb\" target=\"_parent\"><img src=\"https://colab.research.google.com/assets/colab-badge.svg\" alt=\"Open In Colab\"/></a>"
      ]
    },
    {
      "cell_type": "code",
      "metadata": {
        "colab": {
          "base_uri": "https://localhost:8080/"
        },
        "id": "COHthoIDXNiF",
        "outputId": "c451eb74-1848-4ecc-8527-91f3a662039e"
      },
      "source": [
        "# 簡繁轉換\n",
        "!pip install opencc-python-reimplemented"
      ],
      "execution_count": 5,
      "outputs": [
        {
          "output_type": "stream",
          "text": [
            "Collecting opencc-python-reimplemented\n",
            "\u001b[?25l  Downloading https://files.pythonhosted.org/packages/04/aa/02c5ffc87e2bf1da1f476d35aa4de69cad2cfc3140e37114755c454d1231/opencc-python-reimplemented-0.1.6.tar.gz (484kB)\n",
            "\r\u001b[K     |▊                               | 10kB 21.5MB/s eta 0:00:01\r\u001b[K     |█▍                              | 20kB 24.5MB/s eta 0:00:01\r\u001b[K     |██                              | 30kB 16.9MB/s eta 0:00:01\r\u001b[K     |██▊                             | 40kB 14.6MB/s eta 0:00:01\r\u001b[K     |███▍                            | 51kB 8.4MB/s eta 0:00:01\r\u001b[K     |████                            | 61kB 8.4MB/s eta 0:00:01\r\u001b[K     |████▊                           | 71kB 8.6MB/s eta 0:00:01\r\u001b[K     |█████▍                          | 81kB 9.5MB/s eta 0:00:01\r\u001b[K     |██████                          | 92kB 9.9MB/s eta 0:00:01\r\u001b[K     |██████▊                         | 102kB 8.2MB/s eta 0:00:01\r\u001b[K     |███████▍                        | 112kB 8.2MB/s eta 0:00:01\r\u001b[K     |████████▏                       | 122kB 8.2MB/s eta 0:00:01\r\u001b[K     |████████▉                       | 133kB 8.2MB/s eta 0:00:01\r\u001b[K     |█████████▌                      | 143kB 8.2MB/s eta 0:00:01\r\u001b[K     |██████████▏                     | 153kB 8.2MB/s eta 0:00:01\r\u001b[K     |██████████▉                     | 163kB 8.2MB/s eta 0:00:01\r\u001b[K     |███████████▌                    | 174kB 8.2MB/s eta 0:00:01\r\u001b[K     |████████████▏                   | 184kB 8.2MB/s eta 0:00:01\r\u001b[K     |████████████▉                   | 194kB 8.2MB/s eta 0:00:01\r\u001b[K     |█████████████▌                  | 204kB 8.2MB/s eta 0:00:01\r\u001b[K     |██████████████▏                 | 215kB 8.2MB/s eta 0:00:01\r\u001b[K     |██████████████▉                 | 225kB 8.2MB/s eta 0:00:01\r\u001b[K     |███████████████▌                | 235kB 8.2MB/s eta 0:00:01\r\u001b[K     |████████████████▎               | 245kB 8.2MB/s eta 0:00:01\r\u001b[K     |█████████████████               | 256kB 8.2MB/s eta 0:00:01\r\u001b[K     |█████████████████▋              | 266kB 8.2MB/s eta 0:00:01\r\u001b[K     |██████████████████▎             | 276kB 8.2MB/s eta 0:00:01\r\u001b[K     |███████████████████             | 286kB 8.2MB/s eta 0:00:01\r\u001b[K     |███████████████████▋            | 296kB 8.2MB/s eta 0:00:01\r\u001b[K     |████████████████████▎           | 307kB 8.2MB/s eta 0:00:01\r\u001b[K     |█████████████████████           | 317kB 8.2MB/s eta 0:00:01\r\u001b[K     |█████████████████████▋          | 327kB 8.2MB/s eta 0:00:01\r\u001b[K     |██████████████████████▎         | 337kB 8.2MB/s eta 0:00:01\r\u001b[K     |███████████████████████         | 348kB 8.2MB/s eta 0:00:01\r\u001b[K     |███████████████████████▊        | 358kB 8.2MB/s eta 0:00:01\r\u001b[K     |████████████████████████▍       | 368kB 8.2MB/s eta 0:00:01\r\u001b[K     |█████████████████████████       | 378kB 8.2MB/s eta 0:00:01\r\u001b[K     |█████████████████████████▊      | 389kB 8.2MB/s eta 0:00:01\r\u001b[K     |██████████████████████████▍     | 399kB 8.2MB/s eta 0:00:01\r\u001b[K     |███████████████████████████     | 409kB 8.2MB/s eta 0:00:01\r\u001b[K     |███████████████████████████▊    | 419kB 8.2MB/s eta 0:00:01\r\u001b[K     |████████████████████████████▍   | 430kB 8.2MB/s eta 0:00:01\r\u001b[K     |█████████████████████████████   | 440kB 8.2MB/s eta 0:00:01\r\u001b[K     |█████████████████████████████▊  | 450kB 8.2MB/s eta 0:00:01\r\u001b[K     |██████████████████████████████▍ | 460kB 8.2MB/s eta 0:00:01\r\u001b[K     |███████████████████████████████ | 471kB 8.2MB/s eta 0:00:01\r\u001b[K     |███████████████████████████████▉| 481kB 8.2MB/s eta 0:00:01\r\u001b[K     |████████████████████████████████| 491kB 8.2MB/s \n",
            "\u001b[?25hBuilding wheels for collected packages: opencc-python-reimplemented\n",
            "  Building wheel for opencc-python-reimplemented (setup.py) ... \u001b[?25l\u001b[?25hdone\n",
            "  Created wheel for opencc-python-reimplemented: filename=opencc_python_reimplemented-0.1.6-py2.py3-none-any.whl size=486151 sha256=d6ba9dd61a4e4c4e976346e112ba5c1c2a45bd69db88768049fc9d9f479311c6\n",
            "  Stored in directory: /root/.cache/pip/wheels/54/8a/0f/405db0ba3f02d9af8211422d3ae94c47b3296256f168ac1e68\n",
            "Successfully built opencc-python-reimplemented\n",
            "Installing collected packages: opencc-python-reimplemented\n",
            "Successfully installed opencc-python-reimplemented-0.1.6\n"
          ],
          "name": "stdout"
        }
      ]
    },
    {
      "cell_type": "code",
      "metadata": {
        "colab": {
          "base_uri": "https://localhost:8080/",
          "height": 52
        },
        "id": "0g4Xf39VYHqO",
        "outputId": "5ab8ba5c-d545-47f1-f375-133db9edf3d7"
      },
      "source": [
        "from opencc import OpenCC\n",
        "cc = OpenCC('s2tw')  \n",
        "to_convert = '''为什么会觉得烦呢？也许让我们学写繁体中文的话，我们可能会烦。\n",
        "主要看所处的环境。\n",
        "如果楼主从一出生就学的是繁体中文的话，现在让你学写简体中文，你也会烦的。如果一个英语为母语的国家，让他们的人民学中文，不管是繁体还是简体都会烦。\n",
        "要你用你的纯母语来书写，应该是最顺手的吧'''\n",
        "converted = cc.convert(to_convert)\n",
        "converted"
      ],
      "execution_count": 8,
      "outputs": [
        {
          "output_type": "execute_result",
          "data": {
            "application/vnd.google.colaboratory.intrinsic+json": {
              "type": "string"
            },
            "text/plain": [
              "'為什麼會覺得煩呢？也許讓我們學寫繁體中文的話，我們可能會煩。\\n主要看所處的環境。\\n如果樓主從一出生就學的是繁體中文的話，現在讓你學寫簡體中文，你也會煩的。如果一個英語為母語的國家，讓他們的人民學中文，不管是繁體還是簡體都會煩。\\n要你用你的純母語來書寫，應該是最順手的吧'"
            ]
          },
          "metadata": {
            "tags": []
          },
          "execution_count": 8
        }
      ]
    },
    {
      "cell_type": "code",
      "metadata": {
        "colab": {
          "base_uri": "https://localhost:8080/",
          "height": 52
        },
        "id": "KPfHvZwZkrcl",
        "outputId": "07e2a181-e7a9-4b61-975f-77debf86d22c"
      },
      "source": [
        "with open(\"./news.txt\", \"r\", encoding=\"utf-8\") as f:\n",
        "    content = f.read()\n",
        "content"
      ],
      "execution_count": 4,
      "outputs": [
        {
          "output_type": "execute_result",
          "data": {
            "application/vnd.google.colaboratory.intrinsic+json": {
              "type": "string"
            },
            "text/plain": [
              "'中研院院士陳培哲辭去食藥署新冠疫苗審查委員，總統府說不知情，衛福部長陳時中昨也表示，自己是看新聞才得知陳培哲是國產疫苗審查委員，事前也不清楚疫苗審查委員中究竟有誰？所以，誰向媒體人周玉蔻「洩密」？又成謎團。 \\n\\n陳培哲日前抨擊蔡政府押寶蛋白質次單位疫苗的政策，缺乏分散風險的概念，更指出以當前國際局勢，要在7月核准高端疫苗是不可能的事。 '"
            ]
          },
          "metadata": {
            "tags": []
          },
          "execution_count": 4
        }
      ]
    },
    {
      "cell_type": "code",
      "metadata": {
        "colab": {
          "base_uri": "https://localhost:8080/"
        },
        "id": "uMZYfhQzlm7Q",
        "outputId": "a7622592-109d-47ce-ac09-424dc41b1fe1"
      },
      "source": [
        "import jieba.analyse\n",
        "# topK:None (全部列出, 高到低)\n",
        "print(jieba.analyse.extract_tags(content))\n",
        "print(jieba.analyse.extract_tags(content, topK=5, allowPOS=[\"ns\", \"nr\"])) # ns 地名，nr 人名"
      ],
      "execution_count": 5,
      "outputs": [
        {
          "output_type": "stream",
          "text": [
            "Building prefix dict from the default dictionary ...\n",
            "Dumping model to file cache /tmp/jieba.cache\n",
            "Loading model cost 0.786 seconds.\n",
            "Prefix dict has been built successfully.\n"
          ],
          "name": "stderr"
        },
        {
          "output_type": "stream",
          "text": [
            "['疫苗', '審查', '委員', '培哲', '中研院', '培哲辭', '食藥署', '新冠', '總統府', '衛福部長', '新聞', '國產', '委員中', '媒體', '周玉蔻', '洩密', '謎團', '抨擊', '質次', '單位']\n",
            "['陳培哲', '周玉蔻']\n"
          ],
          "name": "stdout"
        }
      ]
    },
    {
      "cell_type": "code",
      "metadata": {
        "colab": {
          "base_uri": "https://localhost:8080/"
        },
        "id": "8i_Vf7fFsrAQ",
        "outputId": "4489ca52-ec52-4e68-f15b-8e89d4e044d8"
      },
      "source": [
        "import jieba\n",
        "from urllib.request import urlretrieve\n",
        "url = \"https://github.com/fxsjy/jieba/raw/master/extra_dict/dict.txt.big\"\n",
        "urlretrieve(url, \"dict.txt.big\")"
      ],
      "execution_count": 6,
      "outputs": [
        {
          "output_type": "execute_result",
          "data": {
            "text/plain": [
              "('dict.txt.big', <http.client.HTTPMessage at 0x7f3c78a82e50>)"
            ]
          },
          "metadata": {
            "tags": []
          },
          "execution_count": 6
        }
      ]
    },
    {
      "cell_type": "code",
      "metadata": {
        "colab": {
          "base_uri": "https://localhost:8080/"
        },
        "id": "f8DQe8rlswfV",
        "outputId": "0fe9eb8e-5af4-459a-9445-ea8c42fc5490"
      },
      "source": [
        "c = \" \".join(jieba.cut(content))\n",
        "print(c)\n",
        "print(\"-\" * 30)\n",
        "jieba.set_dictionary(\"dict.txt.big\")\n",
        "c = \" \".join(jieba.cut(content))\n",
        "print(c)"
      ],
      "execution_count": 7,
      "outputs": [
        {
          "output_type": "stream",
          "text": [
            "Building prefix dict from /content/dict.txt.big ...\n"
          ],
          "name": "stderr"
        },
        {
          "output_type": "stream",
          "text": [
            "中研院 院士 陳 培哲辭 去 食藥署 新冠 疫苗 審查 委員 ， 總統府 說 不知情 ， 衛福部長 陳 時 中 昨 也 表示 ， 自己 是 看 新聞 才 得知 陳 培哲 是 國產 疫苗 審查 委員 ， 事前 也 不 清楚 疫苗 審查 委員中 究竟 有 誰 ？ 所以 ， 誰 向 媒體 人 周玉蔻 「 洩密 」 ？ 又 成 謎團 。   \n",
            " \n",
            " 陳 培哲 日前 抨擊 蔡 政府 押 寶 蛋白 質次 單位 疫苗 的 政策 ， 缺乏 分散 風險 的 概念 ， 更 指出 以當 前國際 局勢 ， 要 在 7 月 核准 高端 疫苗 是 不 可能 的 事 。  \n",
            "------------------------------\n"
          ],
          "name": "stdout"
        },
        {
          "output_type": "stream",
          "text": [
            "Dumping model to file cache /tmp/jieba.u501edca284da514cb68b53a20324f4e3.cache\n",
            "Loading model cost 1.405 seconds.\n",
            "Prefix dict has been built successfully.\n"
          ],
          "name": "stderr"
        },
        {
          "output_type": "stream",
          "text": [
            "中研院 院士 陳 培哲 辭去 食藥署 新冠 疫苗 審查 委員 ， 總統府 說 不知情 ， 衛福 部長 陳 時 中 昨 也 表示 ， 自己 是 看 新聞 才 得知 陳 培哲 是 國產 疫苗 審查 委員 ， 事前 也 不 清楚 疫苗 審查 委員 中 究竟 有 誰 ？ 所以 ， 誰 向 媒體 人 周玉蔻 「 洩密 」 ？ 又 成 謎團 。   \n",
            " \n",
            " 陳 培哲 日前 抨擊 蔡 政府 押寶 蛋白質 次 單位 疫苗 的 政策 ， 缺乏 分散 風險 的 概念 ， 更 指出 以 當前 國際局勢 ， 要 在 7 月 核准 高端 疫苗 是 不 可能 的 事 。  \n"
          ],
          "name": "stdout"
        }
      ]
    },
    {
      "cell_type": "code",
      "metadata": {
        "colab": {
          "base_uri": "https://localhost:8080/"
        },
        "id": "uqBlv73gtT0W",
        "outputId": "614c231f-ae2f-4fa7-efcc-517106c2affd"
      },
      "source": [
        "jieba.load_userdict(\"mydict.txt\")\n",
        "c = \" \".join(jieba.cut(content))\n",
        "print(c)"
      ],
      "execution_count": 8,
      "outputs": [
        {
          "output_type": "stream",
          "text": [
            "中研院 院士 陳培哲 辭去 食藥署 新冠 疫苗 審查 委員 ， 總統府 說 不知情 ， 衛福 部長 陳時中 昨也 表示 ， 自己 是 看 新聞 才 得知 陳培哲 是 國產 疫苗 審查 委員 ， 事前 也 不 清楚 疫苗 審查 委員 中 究竟 有 誰 ？ 所以 ， 誰 向 媒體 人 周玉蔻 「 洩密 」 ？ 又 成 謎團 。   \n",
            " \n",
            " 陳培哲 日前 抨擊 蔡政府 押寶 蛋白質 次 單位 疫苗 的 政策 ， 缺乏 分散 風險 的 概念 ， 更 指出 以 當前 國際局勢 ， 要 在 7 月 核准 高端疫苗 是 不 可能 的 事 。  \n"
          ],
          "name": "stdout"
        }
      ]
    },
    {
      "cell_type": "code",
      "metadata": {
        "colab": {
          "base_uri": "https://localhost:8080/"
        },
        "id": "joM83ABxtYz5",
        "outputId": "a606d335-bcc7-461f-add1-fcf87718fb6a"
      },
      "source": [
        "print(jieba.analyse.extract_tags(content))"
      ],
      "execution_count": 9,
      "outputs": [
        {
          "output_type": "stream",
          "text": [
            "['陳培哲', '審查', '委員', '疫苗', '中研院', '辭去', '食藥署', '新冠', '總統府', '衛福', '部長', '陳時中', '昨也', '新聞', '國產', '媒體', '周玉蔻', '洩密', '謎團', '抨擊']\n"
          ],
          "name": "stdout"
        }
      ]
    }
  ]
}